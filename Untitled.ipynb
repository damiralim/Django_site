{
 "cells": [
  {
   "cell_type": "code",
   "execution_count": 1,
   "id": "ff5fa5c6-fc67-485c-b80a-386f771d8c26",
   "metadata": {},
   "outputs": [
    {
     "name": "stdout",
     "output_type": "stream",
     "text": [
      "9\n"
     ]
    }
   ],
   "source": [
    "var_one = 4\n",
    "var_two = 5\n",
    "print(var_one+var_two)\n"
   ]
  },
  {
   "cell_type": "code",
   "execution_count": null,
   "id": "e87bf798-af6b-48d1-afca-78e7df065d79",
   "metadata": {},
   "outputs": [],
   "source": [
    "var_one=3"
   ]
  }
 ],
 "metadata": {
  "kernelspec": {
   "display_name": "Python 3 (ipykernel)",
   "language": "python",
   "name": "python3"
  },
  "language_info": {
   "codemirror_mode": {
    "name": "ipython",
    "version": 3
   },
   "file_extension": ".py",
   "mimetype": "text/x-python",
   "name": "python",
   "nbconvert_exporter": "python",
   "pygments_lexer": "ipython3",
   "version": "3.10.5"
  }
 },
 "nbformat": 4,
 "nbformat_minor": 5
}
