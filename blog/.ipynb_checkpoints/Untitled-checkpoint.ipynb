{
 "cells": [
  {
   "cell_type": "code",
   "execution_count": null,
   "id": "0a7cf0ff-dbfb-445d-bc87-002994a47635",
   "metadata": {},
   "outputs": [],
   "source": [
    "from django.db import models\n",
    "\n",
    "from blog.models import Post"
   ]
  },
  {
   "cell_type": "code",
   "execution_count": null,
   "id": "bbbc7d1c-830b-4844-a482-298308938f5b",
   "metadata": {},
   "outputs": [],
   "source": [
    "\"\"\"\n",
    "\n",
    ">>> fruit = Fruit.objects.create(name='Apple')\n",
    ">>> fruit.name = 'pear'\n",
    ">>> fruit.save()\n",
    ">>> Fruit.objects.values_list('name', flat=True)\n",
    "<QuerySet ['Apple', 'Pear']>\n",
    "\"\"\"\n",
    "\n",
    "post_test_title = Post.objects.create(title='ok')\n",
    "post_test_title.title = 'super'\n",
    "post_test_title.save()"
   ]
  },
  {
   "cell_type": "code",
   "execution_count": 2,
   "id": "e094da5d-0aa8-4d8e-9911-5a36ab8cf9dd",
   "metadata": {},
   "outputs": [
    {
     "data": {
      "text/plain": [
       "<QuerySet []>"
      ]
     },
     "execution_count": 2,
     "metadata": {},
     "output_type": "execute_result"
    }
   ],
   "source": [
    "Post.objects.values_list('title', flat=True)"
   ]
  }
 ],
 "metadata": {
  "kernelspec": {
   "display_name": "Django Shell-Plus",
   "language": "python",
   "name": "django_extensions"
  },
  "language_info": {
   "codemirror_mode": {
    "name": "ipython",
    "version": 3
   },
   "file_extension": ".py",
   "mimetype": "text/x-python",
   "name": "python",
   "nbconvert_exporter": "python",
   "pygments_lexer": "ipython3",
   "version": "3.10.5"
  }
 },
 "nbformat": 4,
 "nbformat_minor": 5
}
